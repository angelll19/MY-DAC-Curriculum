{
 "cells": [
  {
   "cell_type": "code",
   "execution_count": 5,
   "metadata": {},
   "outputs": [
    {
     "name": "stdout",
     "output_type": "stream",
     "text": [
      "['orange', 'banana', 'tomato']\n"
     ]
    }
   ],
   "source": [
    "#question 1\n",
    "fruits = [\"apple\",\"orange\",\"banana\"]\n",
    "fruits.append(\"tomato\")\n",
    "fruits.remove(\"apple\")\n",
    "print(fruits)"
   ]
  },
  {
   "cell_type": "code",
   "execution_count": 12,
   "metadata": {},
   "outputs": [
    {
     "name": "stdout",
     "output_type": "stream",
     "text": [
      "6\n"
     ]
    }
   ],
   "source": [
    "subjects = (\"physics\", \"chemistry\", \"english\", \"math\",\"biology\")\n",
    "#subjects.append(\"literature\") #error\n",
    "y= list(subjects)\n",
    "y.append(\"literature\")\n",
    "subjects= tuple(y)\n",
    "print(len(subjects))"
   ]
  },
  {
   "cell_type": "code",
   "execution_count": 41,
   "metadata": {},
   "outputs": [],
   "source": [
    "students_id = [10, 6, 7, 8, 9, 3]\n",
    "sorted_students_id= sorted(students_id, reverse=True)\n",
    "sorted_students_id.clear()"
   ]
  },
  {
   "cell_type": "code",
   "execution_count": 1,
   "metadata": {},
   "outputs": [
    {
     "name": "stdout",
     "output_type": "stream",
     "text": [
      "[15, 12, 9, 6, 3]\n"
     ]
    }
   ],
   "source": [
    "\n",
    "# Question 4\n",
    "desc_list = [x for x in range (15, 0,-3)]\n",
    "print(desc_list)"
   ]
  },
  {
   "cell_type": "code",
   "execution_count": 3,
   "metadata": {},
   "outputs": [
    {
     "name": "stdout",
     "output_type": "stream",
     "text": [
      "[2, 4, 6, 8, 10, 12, 14, 16, 18, 20, 22, 24, 26, 28]\n"
     ]
    }
   ],
   "source": [
    "# Question 5\n",
    "asc_list = []\n",
    "y = 2\n",
    "\n",
    "while len(asc_list) <14 :\n",
    "    asc_list.append(y) \n",
    "    y =y+2\n",
    "\n",
    "\n",
    "print(asc_list)\n"
   ]
  },
  {
   "cell_type": "code",
   "execution_count": 12,
   "metadata": {},
   "outputs": [
    {
     "name": "stdout",
     "output_type": "stream",
     "text": [
      "[15, 9, 3]\n"
     ]
    }
   ],
   "source": [
    "# Question 6\n",
    "combined_list = desc_list+asc_list\n",
    "\n",
    "even_numbers=[]\n",
    "odd_numbers =[]\n",
    "for x in combined_list :\n",
    "    if x%2 == 0:\n",
    "        even_numbers.append(x) \n",
    "    else :\n",
    "        odd_numbers.append(x)\n"
   ]
  },
  {
   "cell_type": "code",
   "execution_count": 15,
   "metadata": {},
   "outputs": [],
   "source": [
    "# Question 7\n",
    "import math\n",
    "\n",
    "def circle_properties(radius):\n",
    "    area = math.pi * radius * radius \n",
    "    circumference = 2 * math.pi * radius \n",
    "    return area, circumference\n"
   ]
  },
  {
   "cell_type": "code",
   "execution_count": 18,
   "metadata": {},
   "outputs": [],
   "source": [
    "# Question 8\n",
    "import random\n",
    "def answer () :\n",
    "    lst = [\"Yes\", \"No\", \" Maybe\", \"Absolutely\", \" Without doubt\"]\n",
    "    return random.choice(lst)\n"
   ]
  },
  {
   "cell_type": "code",
   "execution_count": 19,
   "metadata": {},
   "outputs": [],
   "source": [
    "# Question 9\n",
    "\n",
    "student_grades = {\"Alice\": 85, \"Bob\": 90,\"Charlie\": 78}\n",
    "student_grades[\"David\"] =92\n",
    "student_grades[\"Alice\"] =88\n"
   ]
  },
  {
   "cell_type": "code",
   "execution_count": 24,
   "metadata": {},
   "outputs": [],
   "source": [
    "# Question 10\n",
    "fruits =[\"apple\", \"banana\", \"apple\", \"orange\", \"banana\", \"apple\"]\n",
    "fruit_count = {}\n",
    "count = 0\n",
    "for x in fruits:\n",
    "    if x in fruit_count:\n",
    "        fruit_count[x] += 1\n",
    "    else:\n",
    "        fruit_count[x] = 1\n"
   ]
  }
 ],
 "metadata": {
  "kernelspec": {
   "display_name": "Python 3",
   "language": "python",
   "name": "python3"
  },
  "language_info": {
   "codemirror_mode": {
    "name": "ipython",
    "version": 3
   },
   "file_extension": ".py",
   "mimetype": "text/x-python",
   "name": "python",
   "nbconvert_exporter": "python",
   "pygments_lexer": "ipython3",
   "version": "3.12.6"
  }
 },
 "nbformat": 4,
 "nbformat_minor": 2
}
