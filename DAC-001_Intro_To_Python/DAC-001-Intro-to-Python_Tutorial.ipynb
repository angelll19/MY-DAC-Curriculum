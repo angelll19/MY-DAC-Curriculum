{
 "cells": [
  {
   "cell_type": "code",
   "execution_count": 5,
   "metadata": {},
   "outputs": [
    {
     "name": "stdout",
     "output_type": "stream",
     "text": [
      "['orange', 'banana', 'tomato']\n"
     ]
    }
   ],
   "source": [
    "fruits = [\"apple\",\"orange\",\"banana\"]\n",
    "fruits.append(\"tomato\")\n",
    "fruits.remove(\"apple\")\n",
    "print(fruits)"
   ]
  }
 ],
 "metadata": {
  "language_info": {
   "name": "python"
  }
 },
 "nbformat": 4,
 "nbformat_minor": 2
}
